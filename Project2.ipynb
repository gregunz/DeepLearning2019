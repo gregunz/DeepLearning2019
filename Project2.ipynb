{
 "cells": [
  {
   "cell_type": "code",
   "execution_count": 1,
   "metadata": {},
   "outputs": [],
   "source": [
    "import torch"
   ]
  },
  {
   "cell_type": "code",
   "execution_count": 2,
   "metadata": {},
   "outputs": [],
   "source": [
    "class Module(object):\n",
    "    def forward(self, *input):\n",
    "        raise NotImplementedError()\n",
    "\n",
    "    def backward(self, *grad_wrt_output):\n",
    "        raise NotImplementedError()\n",
    "\n",
    "    def param(self):\n",
    "        return []"
   ]
  },
  {
   "cell_type": "code",
   "execution_count": 3,
   "metadata": {},
   "outputs": [],
   "source": [
    "class Variable:\n",
    "    \"\"\"Trainable variable.\"\"\"\n",
    "    def __init__(self, data, requires_grad=False):\n",
    "        self.data = data\n",
    "        self.grad = torch.empty_like(data)  # acumulated gradient\n",
    "\n",
    "    def zero_grad(self):\n",
    "        self.grad.zero_()\n",
    "    \n",
    "    def update(self, eta):\n",
    "        self.data = self.data - eta * self.grad"
   ]
  },
  {
   "cell_type": "code",
   "execution_count": 4,
   "metadata": {},
   "outputs": [],
   "source": [
    "class Tanh(Module):\n",
    "    def forward(self, x):\n",
    "        self.x = x\n",
    "        return torch.tanh(x)\n",
    "    \n",
    "    def _dtanh(self, x):\n",
    "        return 4 * (x.exp() + x.mul(-1).exp()).pow(-2)\n",
    "    \n",
    "    def backward(self, dl_dx):\n",
    "        dl_ds = dl_dx * self._dtanh(self.x)\n",
    "        return dl_ds\n",
    "    \n",
    "    def __call__(self, x):\n",
    "        return self.forward(x)\n",
    "\n",
    "    def param(self):\n",
    "        return []"
   ]
  },
  {
   "cell_type": "code",
   "execution_count": 5,
   "metadata": {},
   "outputs": [],
   "source": [
    "class Linear(Module):\n",
    "    def __init__(self, in_features, out_features, bias=True):\n",
    "        if bias:\n",
    "            self.b = Variable(torch.empty(out_features).normal_(0, 1e-6))\n",
    "        self.w = Variable(torch.empty(in_features, out_features).normal_(0, 1e-6))\n",
    "        \n",
    "        #self.dl_dw = torch.empty_like(self.W)\n",
    "        #if bias:\n",
    "        #    self.bias = torch.empty(out_features)\n",
    "        #    self.bias_grad(torch.empty_like(self.bias))\n",
    "        #    self.dl_db = torch.empty_like(self.bias)\n",
    "    \n",
    "    def reset_grad():\n",
    "        self.w.grad.zero_()\n",
    "        if self.b:\n",
    "            self.b.grad.zero_()\n",
    "\n",
    "    def forward(self, x):\n",
    "        self.x = x\n",
    "        out = x @ self.w.data\n",
    "        if self.b:\n",
    "            out += self.b.data\n",
    "        return out\n",
    "\n",
    "    def __call__(self, x):\n",
    "        return self.forward(x)\n",
    "\n",
    "    def backward(self, dl_ds):\n",
    "        dl_dx = self.w.data @ dl_ds\n",
    "        self.w.grad.add_(self.x.view(-1, 1) @ dl_ds.view(1, -1))\n",
    "        if self.b:\n",
    "            self.b.grad.add_(dl_ds)\n",
    "        return dl_dx\n",
    "    \n",
    "    def param(self):\n",
    "        return [self.w, self.b]"
   ]
  },
  {
   "cell_type": "markdown",
   "metadata": {},
   "source": [
    "### try"
   ]
  },
  {
   "cell_type": "code",
   "execution_count": 6,
   "metadata": {},
   "outputs": [],
   "source": [
    "import dlc_practical_prologue as prologue\n",
    "from tqdm import tqdm"
   ]
  },
  {
   "cell_type": "code",
   "execution_count": 7,
   "metadata": {},
   "outputs": [
    {
     "name": "stdout",
     "output_type": "stream",
     "text": [
      "* Using MNIST\n",
      "** Reduce the data-set (use --full for the full thing)\n",
      "** Use 1000 train and 1000 test samples\n"
     ]
    }
   ],
   "source": [
    "train_input, train_target, test_input, test_target = prologue.load_data(one_hot_labels=True, normalize=True)\n",
    "gamma = 0.9\n",
    "train_target *= gamma "
   ]
  },
  {
   "cell_type": "code",
   "execution_count": 8,
   "metadata": {},
   "outputs": [],
   "source": [
    "class Sequential:\n",
    "    def __init__(self, elems):\n",
    "        self.elems = elems\n",
    "    \n",
    "    def forward(self, x):\n",
    "        out = x\n",
    "        for elem in self.elems:\n",
    "            out = elem(out)\n",
    "        return out\n",
    "\n",
    "    def __call__(self, x):\n",
    "        return self.forward(x)\n",
    "    \n",
    "    def backward(self, dl_dx):\n",
    "        dl = dl_dx\n",
    "        for elem in reversed(self.elems):\n",
    "            dl = elem.backward(dl)\n",
    "    \n",
    "    def param(self):\n",
    "        p = []\n",
    "        for elem in self.elems:\n",
    "            p += elem.param()\n",
    "        return p"
   ]
  },
  {
   "cell_type": "code",
   "execution_count": 9,
   "metadata": {},
   "outputs": [],
   "source": [
    "# define network\n",
    "l1 = Linear(784, 50)\n",
    "t1 = Tanh()\n",
    "l2 = Linear(50, 10)\n",
    "t2 = Tanh()\n",
    "net = Sequential([l1, t1, l2, t2])"
   ]
  },
  {
   "cell_type": "code",
   "execution_count": 10,
   "metadata": {},
   "outputs": [],
   "source": [
    "def loss(v, t):\n",
    "    x = (t - v)\n",
    "    return x.t() @ x\n",
    "def dloss(v, t):\n",
    "    return 2 * (v - t)"
   ]
  },
  {
   "cell_type": "code",
   "execution_count": 11,
   "metadata": {},
   "outputs": [
    {
     "name": "stderr",
     "output_type": "stream",
     "text": [
      "100%|██████████| 1000/1000 [07:54<00:00,  1.82it/s]\n"
     ]
    }
   ],
   "source": [
    "for i in tqdm(range(1000)):\n",
    "    for var in net.param():\n",
    "        var.zero_grad()\n",
    "    for x, t in zip(train_input, train_target):\n",
    "        out = net(x)\n",
    "        dl = dloss(out, t)\n",
    "        net.backward(dl)\n",
    "    eta = 0.1 / train_input.shape[0]\n",
    "    for var in net.param():\n",
    "        var.update(eta)"
   ]
  },
  {
   "cell_type": "code",
   "execution_count": 13,
   "metadata": {},
   "outputs": [
    {
     "name": "stdout",
     "output_type": "stream",
     "text": [
      "840 class predicted correctly\n"
     ]
    }
   ],
   "source": [
    "nb_correct = 0\n",
    "for x, t in zip(test_input, test_target):\n",
    "    pred = net(x)\n",
    "    if pred.argmax() == t.argmax():\n",
    "        nb_correct+=1\n",
    "print(f\"{nb_correct} class predicted correctly\")"
   ]
  },
  {
   "cell_type": "code",
   "execution_count": null,
   "metadata": {},
   "outputs": [],
   "source": []
  }
 ],
 "metadata": {
  "kernelspec": {
   "display_name": "Python 3",
   "language": "python",
   "name": "python3"
  },
  "language_info": {
   "codemirror_mode": {
    "name": "ipython",
    "version": 3
   },
   "file_extension": ".py",
   "mimetype": "text/x-python",
   "name": "python",
   "nbconvert_exporter": "python",
   "pygments_lexer": "ipython3",
   "version": "3.6.8"
  }
 },
 "nbformat": 4,
 "nbformat_minor": 2
}
