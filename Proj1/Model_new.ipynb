{
 "cells": [
  {
   "cell_type": "code",
   "execution_count": null,
   "metadata": {},
   "outputs": [],
   "source": [
    "import torch\n",
    "import torch.nn as nn\n",
    "import torch.nn.functional as F\n",
    "\n",
    "IMAGE_HEIGHT = 14\n",
    "IMAGE_WIDTH = 14\n",
    "\n",
    "class Baseline(nn.Module):\n",
    "    \n",
    "    def __init__(self):\n",
    "        super(Baseline, self).__init__()\n",
    "        self.layer = nn.Linear(IMAGE_HEIGHT*IMAGE_HEIGHT, 20)\n",
    "        self.layer1 = nn.Linear(20,20)\n",
    "        self.final_layer = nn.Linear(20,1)   \n",
    "        self.relu = nn.ReLU()\n",
    "        self.out_act = nn.Sigmoid()\n",
    "\n",
    "    def forward(self, x):\n",
    "        \n",
    "        img = img.squeeze(1).view(x.shape[0], -1)\n",
    "        img = self.layer(img)\n",
    "        img = self.relu(img)\n",
    "        img = self.layer1(img)\n",
    "        img = self.relu(img)      \n",
    "       \n",
    "        out = self.final_layer(out)\n",
    "        out = self.out_act(out).squeeze(1)\n",
    "        return x"
   ]
  }
 ],
 "metadata": {
  "kernelspec": {
   "display_name": "Python 3",
   "language": "python",
   "name": "python3"
  },
  "language_info": {
   "codemirror_mode": {
    "name": "ipython",
    "version": 3
   },
   "file_extension": ".py",
   "mimetype": "text/x-python",
   "name": "python",
   "nbconvert_exporter": "python",
   "pygments_lexer": "ipython3",
   "version": "3.6.8"
  },
  "widgets": {
   "state": {},
   "version": "1.1.2"
  }
 },
 "nbformat": 4,
 "nbformat_minor": 2
}
