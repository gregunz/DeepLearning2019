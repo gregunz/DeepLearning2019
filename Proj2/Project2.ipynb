{
 "cells": [
  {
   "cell_type": "code",
   "execution_count": 1,
   "metadata": {},
   "outputs": [],
   "source": [
    "import torch\n",
    "from deepy.nn import Tanh, Linear, Sequential\n",
    "from deepy.loss import MSE\n",
    "from deepy.optim import SGD"
   ]
  },
  {
   "cell_type": "code",
   "execution_count": 2,
   "metadata": {},
   "outputs": [],
   "source": [
    "import dlc_practical_prologue as prologue\n",
    "from tqdm import tqdm"
   ]
  },
  {
   "cell_type": "code",
   "execution_count": 3,
   "metadata": {},
   "outputs": [
    {
     "name": "stdout",
     "output_type": "stream",
     "text": [
      "* Using MNIST\n",
      "** Reduce the data-set (use --full for the full thing)\n",
      "** Use 1000 train and 1000 test samples\n"
     ]
    }
   ],
   "source": [
    "train_input, train_target, test_input, test_target = prologue.load_data(one_hot_labels=True, normalize=True)\n",
    "gamma = 0.9\n",
    "train_target *= gamma "
   ]
  },
  {
   "cell_type": "code",
   "execution_count": 4,
   "metadata": {},
   "outputs": [],
   "source": [
    "# define network\n",
    "l1 = Linear(784, 50)\n",
    "t1 = Tanh()\n",
    "l2 = Linear(50, 10)\n",
    "t2 = Tanh()\n",
    "net = Sequential([l1, t1, l2, t2])"
   ]
  },
  {
   "cell_type": "code",
   "execution_count": 5,
   "metadata": {},
   "outputs": [],
   "source": [
    "optimizer = SGD(net.param(), lr=0.1 / train_input.shape[0])  # TODO if time add weight regularization \n",
    "criterion = MSE()"
   ]
  },
  {
   "cell_type": "code",
   "execution_count": 6,
   "metadata": {},
   "outputs": [
    {
     "name": "stderr",
     "output_type": "stream",
     "text": [
      "100%|██████████| 1000/1000 [05:48<00:00,  2.98it/s]\n"
     ]
    }
   ],
   "source": [
    "for i in tqdm(range(1000)):\n",
    "    optimizer.zero_grad()\n",
    "    for x, t in zip(train_input, train_target):\n",
    "        out = net(x)\n",
    "        loss_value, loss_dl = criterion(out, t)\n",
    "        net.backward(loss_dl)\n",
    "    optimizer.step()"
   ]
  },
  {
   "cell_type": "code",
   "execution_count": 7,
   "metadata": {},
   "outputs": [
    {
     "name": "stdout",
     "output_type": "stream",
     "text": [
      "840 class predicted correctly\n"
     ]
    }
   ],
   "source": [
    "nb_correct = 0\n",
    "for x, t in zip(test_input, test_target):\n",
    "    pred = net(x)\n",
    "    if pred.argmax() == t.argmax():\n",
    "        nb_correct+=1\n",
    "print(f\"{nb_correct} class predicted correctly\")"
   ]
  },
  {
   "cell_type": "code",
   "execution_count": null,
   "metadata": {},
   "outputs": [],
   "source": []
  }
 ],
 "metadata": {
  "kernelspec": {
   "display_name": "Python 3",
   "language": "python",
   "name": "python3"
  },
  "language_info": {
   "codemirror_mode": {
    "name": "ipython",
    "version": 3
   },
   "file_extension": ".py",
   "mimetype": "text/x-python",
   "name": "python",
   "nbconvert_exporter": "python",
   "pygments_lexer": "ipython3",
   "version": "3.6.8"
  }
 },
 "nbformat": 4,
 "nbformat_minor": 2
}
