{
 "cells": [
  {
   "cell_type": "code",
   "execution_count": 1,
   "metadata": {},
   "outputs": [],
   "source": [
    "%load_ext autoreload\n",
    "%autoreload 2\n",
    "import torch\n",
    "from deepy.nn import Tanh, Relu, Linear, Sequential, Module\n",
    "from deepy.loss import MSE\n",
    "from deepy.optim import SGD\n",
    "from deepy.tensor import Variable\n",
    "from deepy.utils import graph_repr"
   ]
  },
  {
   "cell_type": "code",
   "execution_count": 2,
   "metadata": {},
   "outputs": [],
   "source": [
    "import dlc_practical_prologue as prologue\n",
    "from tqdm import tqdm"
   ]
  },
  {
   "cell_type": "code",
   "execution_count": 3,
   "metadata": {},
   "outputs": [
    {
     "name": "stdout",
     "output_type": "stream",
     "text": [
      "* Using MNIST\n",
      "** Reduce the data-set (use --full for the full thing)\n",
      "** Use 1000 train and 1000 test samples\n"
     ]
    }
   ],
   "source": [
    "train_input, train_target, test_input, test_target = prologue.load_data(one_hot_labels=True, normalize=True)\n",
    "gamma = 0.9\n",
    "train_target *= gamma "
   ]
  },
  {
   "cell_type": "code",
   "execution_count": 4,
   "metadata": {},
   "outputs": [
    {
     "name": "stdout",
     "output_type": "stream",
     "text": [
      "X => Linear(784, 50) => Tanh() => Linear(50, 10) => Tanh() => y\n"
     ]
    }
   ],
   "source": [
    "# define network\n",
    "l1 = Linear(784, 50)\n",
    "t1 = Tanh()\n",
    "l2 = Linear(50, 10)\n",
    "t2 = Tanh()\n",
    "net = Sequential([l1, t1, l2, t2])\n",
    "dummy_inputs = Variable(train_input[0])\n",
    "print(graph_repr(net, dummy_inputs))"
   ]
  },
  {
   "cell_type": "code",
   "execution_count": 5,
   "metadata": {},
   "outputs": [
    {
     "name": "stdout",
     "output_type": "stream",
     "text": [
      "X => Linear(784, 50) => Tanh() => Linear(50, 10) => Relu() => y\n"
     ]
    },
    {
     "data": {
      "text/plain": [
       "[<deepy.tensor.Variable at 0x7f5808ec2860>,\n",
       " <deepy.tensor.Variable at 0x7f5808ec27f0>,\n",
       " <deepy.tensor.Variable at 0x7f5808ec28d0>,\n",
       " <deepy.tensor.Variable at 0x7f5808ec2908>,\n",
       " <deepy.tensor.Variable at 0x7f5808ec2978>]"
      ]
     },
     "execution_count": 5,
     "metadata": {},
     "output_type": "execute_result"
    }
   ],
   "source": [
    "class Net(Module):\n",
    "    def __init__(self):\n",
    "        self.l1 = Linear(784, 50)\n",
    "        self.a1 = Tanh()\n",
    "        self.l2 = Linear(50, 10)\n",
    "        self.a2 = Relu()\n",
    "        self.tes = Variable(torch.empty(2,2), requires_grad=True)\n",
    "    \n",
    "    def forward(self, x):\n",
    "        out = self.l1(x)\n",
    "        out = self.a1(out)\n",
    "        out = self.l2(out)\n",
    "        out = self.a2(out)\n",
    "        return out\n",
    "\n",
    "net = Net()\n",
    "\n",
    "dummy_inputs = Variable(train_input[0])\n",
    "print(graph_repr(net, dummy_inputs))\n",
    "net.param()"
   ]
  },
  {
   "cell_type": "code",
   "execution_count": 6,
   "metadata": {},
   "outputs": [],
   "source": [
    "optimizer = SGD(net.param(), lr=0.1 / train_input.shape[0])  # TODO if time add weight regularization \n",
    "criterion = MSE()\n",
    "optimizer.zero_grad()"
   ]
  },
  {
   "cell_type": "code",
   "execution_count": 7,
   "metadata": {},
   "outputs": [
    {
     "name": "stderr",
     "output_type": "stream",
     "text": [
      "100%|██████████| 100/100 [00:30<00:00,  2.64it/s]\n"
     ]
    }
   ],
   "source": [
    "from deepy.tensor import Variable\n",
    "for i in tqdm(range(100)):\n",
    "    optimizer.zero_grad()\n",
    "    for x, t in zip(train_input, train_target):\n",
    "        x = Variable(x)\n",
    "        out = net(x)\n",
    "        loss = criterion(out, t)\n",
    "        loss.backward()\n",
    "    optimizer.step()"
   ]
  },
  {
   "cell_type": "code",
   "execution_count": 8,
   "metadata": {},
   "outputs": [
    {
     "name": "stdout",
     "output_type": "stream",
     "text": [
      "786 class predicted correctly\n"
     ]
    }
   ],
   "source": [
    "nb_correct = 0\n",
    "for x, t in zip(test_input, test_target):\n",
    "    pred = net(x)\n",
    "    pred = pred.data\n",
    "    if pred.argmax() == t.argmax():\n",
    "        nb_correct+=1\n",
    "print(f\"{nb_correct} class predicted correctly\")"
   ]
  },
  {
   "cell_type": "code",
   "execution_count": null,
   "metadata": {},
   "outputs": [],
   "source": []
  }
 ],
 "metadata": {
  "kernelspec": {
   "display_name": "Python 3",
   "language": "python",
   "name": "python3"
  },
  "language_info": {
   "codemirror_mode": {
    "name": "ipython",
    "version": 3
   },
   "file_extension": ".py",
   "mimetype": "text/x-python",
   "name": "python",
   "nbconvert_exporter": "python",
   "pygments_lexer": "ipython3",
   "version": "3.6.8"
  }
 },
 "nbformat": 4,
 "nbformat_minor": 2
}
